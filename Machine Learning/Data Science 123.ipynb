{
 "cells": [
  {
   "cell_type": "code",
   "execution_count": 1,
   "id": "39078690",
   "metadata": {},
   "outputs": [],
   "source": [
    "data= \"Welcome to the data science world\""
   ]
  },
  {
   "cell_type": "code",
   "execution_count": 10,
   "id": "1c6944e6",
   "metadata": {},
   "outputs": [
    {
     "data": {
      "text/plain": [
       "'Welcome to the data science world'"
      ]
     },
     "execution_count": 10,
     "metadata": {},
     "output_type": "execute_result"
    }
   ],
   "source": [
    "data"
   ]
  },
  {
   "cell_type": "code",
   "execution_count": 6,
   "id": "7c8a5f00",
   "metadata": {},
   "outputs": [
    {
     "name": "stdout",
     "output_type": "stream",
     "text": [
      "My name is Bharath Rao S\n"
     ]
    }
   ],
   "source": [
    "a= \"My name is Bharath Rao S\"\n",
    "print(a)"
   ]
  },
  {
   "cell_type": "code",
   "execution_count": 2,
   "id": "712dde2b",
   "metadata": {},
   "outputs": [
    {
     "data": {
      "text/plain": [
       "'Welcome to the data science world'"
      ]
     },
     "execution_count": 2,
     "metadata": {},
     "output_type": "execute_result"
    }
   ],
   "source": [
    "data"
   ]
  },
  {
   "cell_type": "code",
   "execution_count": 11,
   "id": "24bb79c4",
   "metadata": {},
   "outputs": [
    {
     "name": "stdout",
     "output_type": "stream",
     "text": [
      "19\n"
     ]
    }
   ],
   "source": [
    "print(10+9)"
   ]
  },
  {
   "cell_type": "code",
   "execution_count": 13,
   "id": "b45cadd1",
   "metadata": {},
   "outputs": [
    {
     "name": "stdout",
     "output_type": "stream",
     "text": [
      "My name is S Bharath Rao\n"
     ]
    }
   ],
   "source": [
    "FullName= \"My name is S Bharath Rao\"\n",
    "print(FullName)"
   ]
  },
  {
   "cell_type": "code",
   "execution_count": null,
   "id": "90d98877",
   "metadata": {},
   "outputs": [],
   "source": []
  }
 ],
 "metadata": {
  "kernelspec": {
   "display_name": "Python 3 (ipykernel)",
   "language": "python",
   "name": "python3"
  },
  "language_info": {
   "codemirror_mode": {
    "name": "ipython",
    "version": 3
   },
   "file_extension": ".py",
   "mimetype": "text/x-python",
   "name": "python",
   "nbconvert_exporter": "python",
   "pygments_lexer": "ipython3",
   "version": "3.10.9"
  }
 },
 "nbformat": 4,
 "nbformat_minor": 5
}
